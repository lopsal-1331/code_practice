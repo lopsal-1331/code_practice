{
 "cells": [
  {
   "cell_type": "markdown",
   "id": "67c2c480",
   "metadata": {},
   "source": [
    "## **Hungarian Algorithm** - Step by Step Process and Development\n"
   ]
  },
  {
   "cell_type": "markdown",
   "id": "2602f3b2",
   "metadata": {},
   "source": [
    "## Introduction \n",
    "Out goal is to implement in Python the Hungarian Algorithm solving the **assignment problem** where: \n",
    "* We have n workers and n tasks \n",
    "* Each worker-task assignment has a cost. \n",
    "* We want to find the optimal assignment to minimize the total cost."
   ]
  },
  {
   "cell_type": "markdown",
   "id": "869a1cbb",
   "metadata": {},
   "source": [
    "## Step 0 - **The Input**\n",
    "\n",
    "We are given a **cost matrix**, and each element `c[i][j]` is the cost of assigning the task 'j' to the worker 'i'. We aspire to find the one-to-one assignments that will be able to minimize the total cost."
   ]
  },
  {
   "cell_type": "code",
   "execution_count": 1,
   "metadata": {},
   "outputs": [],
   "source": [
    "''' EXAMPLE OF COST MATRIX'''\n",
    "cost_matrix = [\n",
    "    [4,1,3], \n",
    "    [2,0,5], \n",
    "    [3,2,2]\n",
    "]"
   ]
  },
  {
   "cell_type": "markdown",
   "id": "a96e9bc7",
   "metadata": {},
   "source": [
    "Our objective is to find the combination of assignments that, then summed the individual costs, minimizes the total cost."
   ]
  },
  {
   "cell_type": "markdown",
   "id": "4ec65c3d",
   "metadata": {},
   "source": [
    "## Step 1 - **Row Reduction**\n",
    "The first step is to substract the minimun value of each row from every element in that row. We do this because in the end, it doesn't change the optimal assignment and it guarantees at least one zero in each row, which simplifies finding potential assignments."
   ]
  },
  {
   "cell_type": "code",
   "execution_count": 2,
   "id": "f1d40a7f",
   "metadata": {},
   "outputs": [
    {
     "name": "stdout",
     "output_type": "stream",
     "text": [
      "Row Min:\n",
      "[1 0 2]\n",
      "C row reduced:\n",
      "[[3 0 2]\n",
      " [2 0 5]\n",
      " [1 0 0]]\n"
     ]
    }
   ],
   "source": [
    "import numpy as np  # for better treatment of matrix elements\n",
    "\n",
    "C = np.array([\n",
    "    [4,1,3], \n",
    "    [2,0,5], \n",
    "    [3,2,2]\n",
    "])\n",
    "\n",
    "'''Step 1: Substract the row minimus'''\n",
    "# np.min is a function across COLUMNS, since axis = 1, row-wise;\n",
    "# this gives a 1D array with the minimun for each row.\n",
    "row_min = np.min(C, axis=1) \n",
    "print('Row Min:')\n",
    "print(row_min)\n",
    "\n",
    "# row_min[:, np.newaxis] transforms row_min from shape (3, 0) into shape (3,1)\n",
    "# We do this because we want to subtract row-wise. We need row_min to align with C\n",
    "# dimensions so broadcasting works correctly.\n",
    "C_row_reduced = C - row_min[:, np.newaxis]\n",
    "print('C row reduced:')\n",
    "print(C_row_reduced)"
   ]
  },
  {
   "cell_type": "markdown",
   "id": "edf2f1fa",
   "metadata": {},
   "source": [
    "## Step 2 - **Column Reduction**\n",
    "The goal for each column is to find the smallest element, and substract it from all elements in that column. "
   ]
  },
  {
   "cell_type": "code",
   "execution_count": 3,
   "id": "c5652f22",
   "metadata": {},
   "outputs": [
    {
     "name": "stdout",
     "output_type": "stream",
     "text": [
      "Min columns: \n",
      " [1 0 0]\n"
     ]
    }
   ],
   "source": [
    "# axis = 0 -> apply column wise\n",
    "col_min = np.min(C_row_reduced, axis=0)\n",
    "print('Min columns: \\n', col_min)"
   ]
  },
  {
   "cell_type": "markdown",
   "id": "da402ebd",
   "metadata": {},
   "source": [
    "Now we can substract these column minimus in the corresponding columns. "
   ]
  },
  {
   "cell_type": "code",
   "execution_count": 4,
   "id": "3a161461",
   "metadata": {},
   "outputs": [
    {
     "name": "stdout",
     "output_type": "stream",
     "text": [
      "C reduced: \n",
      " [[2 0 2]\n",
      " [1 0 5]\n",
      " [0 0 0]]\n"
     ]
    }
   ],
   "source": [
    "C_reduced = C_row_reduced - col_min\n",
    "print('C reduced: \\n', C_reduced)"
   ]
  },
  {
   "cell_type": "markdown",
   "id": "6c20f1e5",
   "metadata": {},
   "source": [
    "## Step 3 - **Cover all zeros with minimun number of lines**\n",
    "After all the reductions, we find some zeros in our cost matrix. We want to cover (cross out) all zeros with the **minimun number of horizontal and vertical lines**. \n",
    "\n",
    "We do this because if we can cover all zeros with exactly 'n' lines ('n' being the size of the matrix), then we can assign directly. If not, we need to modify the matrix further (step 4). There are several ways to do this step manually or algorithmically.\n",
    "\n",
    "### 1. Mark independent zeros (preliminary step)\n",
    "Find a zero, and if there is not other zeros in its row or column, mark it as **starred** with a \\*. Repeat this until all zeros are starred or unmarked. If we do this manually, we would obtain: \n",
    "\n",
    "````\n",
    "[\n",
    "    [ , *, ], \n",
    "    [ , *, ], \n",
    "    [*, *, *] --> we have a conflict here\n",
    "]\n",
    "````\n",
    "In practice, we only star one zero per row and per column. Since we cannot have multiple stars in the same row/column, we must select a set of independent zeros."
   ]
  },
  {
   "cell_type": "markdown",
   "id": "d591832a",
   "metadata": {},
   "source": [
    "### 2. Cover columns containing starred zeros\n",
    "After starring, cover all columns that contain a starred zero and count how many were used. If we can cover all zeros with exactly n lines we are done, if not, we go to step 4."
   ]
  },
  {
   "cell_type": "markdown",
   "id": "ba57c05a",
   "metadata": {},
   "source": [
    "### Implementation\n",
    "We need to write: \n",
    "* A method to find the independent zeros\n",
    "* A method to cover columns with starred zeros\n",
    "* Count how many lines we used."
   ]
  },
  {
   "cell_type": "code",
   "execution_count": 5,
   "id": "e89c7d62",
   "metadata": {},
   "outputs": [
    {
     "name": "stdout",
     "output_type": "stream",
     "text": [
      "Mask matrix after starring the independent zeros: \n",
      " [[0 1 0]\n",
      " [0 1 0]\n",
      " [0 0 1]]\n"
     ]
    }
   ],
   "source": [
    "n = C_reduced.shape[0] # we save the size of the matrix\n",
    "\n",
    "''' \n",
    "Step 3.1. Star independent zeros\n",
    "Initilize mask matrix: 0 = no mark; 1 = starred; 2 = primed\n",
    "'''\n",
    "mask = np.zeros_like(C_reduced, dtype=int)\n",
    "row_covered = np.zeros(n, dtype=bool)\n",
    "col_covered = np.zeros(n, dtype=bool)\n",
    "\n",
    "# Find independent zeros and star them \n",
    "for i in range(n): \n",
    "    for j in range(n): \n",
    "        if C_reduced[i,j] == 0 and not row_covered[i] and not row_covered[j]: \n",
    "            mask[i,j] = 1 # star the zero \n",
    "            row_covered[i] = True\n",
    "            col_covered[j] = True \n",
    "            \n",
    "# reset the row and column covers for the next step \n",
    "row_covered[:] = False\n",
    "col_covered[:] = False \n",
    "\n",
    "print('Mask matrix after starring the independent zeros: \\n', mask)"
   ]
  },
  {
   "cell_type": "code",
   "execution_count": 6,
   "id": "d686ee5e",
   "metadata": {},
   "outputs": [
    {
     "name": "stdout",
     "output_type": "stream",
     "text": [
      "Columns covered after initial starring: \n",
      "[False  True  True]\n"
     ]
    }
   ],
   "source": [
    "''' \n",
    "Step 3.2. Cover the columns containing the starred zeros \n",
    "'''\n",
    "for j in range(n): \n",
    "    if np.any(mask[:,j] == 1): \n",
    "        col_covered[j] = True \n",
    "\n",
    "print('Columns covered after initial starring: ')\n",
    "print(col_covered)"
   ]
  },
  {
   "cell_type": "code",
   "execution_count": 7,
   "id": "6ad5a1b3",
   "metadata": {},
   "outputs": [
    {
     "name": "stdout",
     "output_type": "stream",
     "text": [
      "Number of lines used to cover all the starred zeros: 2\n"
     ]
    }
   ],
   "source": [
    "''' \n",
    "Step 3.3. Count number of covered columns \n",
    "'''\n",
    "num_lines = np.sum(col_covered)\n",
    "print(f'Number of lines used to cover all the starred zeros: {num_lines}')"
   ]
  },
  {
   "cell_type": "markdown",
   "id": "4ac13ef1",
   "metadata": {},
   "source": [
    "Since n = 3 > 2 = lines used to cover all the starred zeros, we proceed with the step 4."
   ]
  },
  {
   "cell_type": "markdown",
   "id": "c8dffb5e",
   "metadata": {},
   "source": [
    "## Step 4 - **Adjusting the Matrix** (create more zeros)"
   ]
  },
  {
   "cell_type": "markdown",
   "id": "614d6c60",
   "metadata": {},
   "source": [
    "We need to modify the matrix to create additional zeros, but carefully, so we don't ruin previous work. The goal of step 4 is to modify the matrix to create more zeros without affecting the positions of existing starred zeros. \n",
    "\n",
    "We can modify the matrix following these rules: \n",
    "1. Find the smallest value among all uncovered element (we call this value `min_uncovered`)\n",
    "2. Substract the `min_uncovered` from every uncovered element. \n",
    "3. Add `min_uncovered` to every element that is covered **twice** (both row and column covered). \n",
    "4. Leave elements covered only once (either row or column) unchanged.\n",
    "\n",
    "This works because substracting from the uncoveres elements creates new zeros. Adding to double-covered elements preserves the previous zeros. It ensures that the feasibility of already starred zeros is not affected."
   ]
  },
  {
   "cell_type": "code",
   "execution_count": 8,
   "id": "c16f87ac",
   "metadata": {},
   "outputs": [
    {
     "name": "stdout",
     "output_type": "stream",
     "text": [
      "Minimun uncovered value: 0\n",
      "Matrix after adjustment\n",
      "[[2 0 2]\n",
      " [1 0 5]\n",
      " [0 0 0]]\n"
     ]
    }
   ],
   "source": [
    "'''Step 4 - Modify the matrix to create more zeros'''\n",
    "\n",
    "# 1. Find minimun uncovered value\n",
    "uncovered_values = []\n",
    "for i in range(n): \n",
    "    for j in range(n): \n",
    "        if not row_covered[i] and not col_covered[j]: \n",
    "            uncovered_values.append(C_reduced[i,j])\n",
    "\n",
    "if uncovered_values: \n",
    "    min_uncovered = min(uncovered_values)\n",
    "else: \n",
    "    min_uncovered = 0 # safety check if no uncovered values\n",
    "\n",
    "print(f'Minimun uncovered value: {min_uncovered}')\n",
    "\n",
    "# 2. Substract the min_uncovered from uncovered elements\n",
    "# 3. Add min_uncovered to all elements covered twice (both row and column)\n",
    "\n",
    "for i in range(n): \n",
    "    for j in range(n): \n",
    "        if not row_covered[i] and not row_covered[j]: \n",
    "            C_reduced[i,j] -= min_uncovered\n",
    "        elif row_covered[i] and col_covered[j]: \n",
    "            C_reduced[i,j] += min_uncovered\n",
    "\n",
    "print('Matrix after adjustment')\n",
    "print(C_reduced)"
   ]
  },
  {
   "cell_type": "markdown",
   "id": "435c33e4",
   "metadata": {},
   "source": [
    "Once we have this, we go back to step 3 and repeat the process. The cycle repeats until the number of lines equals n, at which point we're ready for the assignment."
   ]
  },
  {
   "cell_type": "markdown",
   "id": "30f0b5c1",
   "metadata": {},
   "source": [
    "## Step 5 - **Extract the Optimal Assignment**\n",
    "The goal is from the final matrix - where we covered all zeros using n lines - we now extract the **optimal assignment**, which is a pairing of workers to task. \n",
    "\n",
    "We will use de **starred zeros** to decide the final assignments. Each starred zero represents an assignment (worker i to task j). We need to select exactly one zero per row and per column - this is ensured by the previous steps. \n",
    "\n",
    "### Assignment Rules\n",
    "From the mask matrix, for each row we will find the column where `mask[i][j] == 1`; that column represents the task assigned to worker i. "
   ]
  },
  {
   "cell_type": "code",
   "execution_count": 14,
   "id": "335f1adc",
   "metadata": {},
   "outputs": [
    {
     "name": "stdout",
     "output_type": "stream",
     "text": [
      "Optimal assignment (worker->task):\n",
      "Worker: 0 -> Task: 1\n",
      "Worker: 1 -> Task: 0\n",
      "Worker: 2 -> Task: 2\n"
     ]
    }
   ],
   "source": [
    "''' \n",
    "STEP 5 - Extract the assignment from the final mask\n",
    "'''\n",
    "assignment = []\n",
    "\n",
    "# simulate a valid mask\n",
    "mask = [\n",
    " [0, 1, 0],\n",
    " [1, 0, 0],\n",
    " [0, 0, 1]\n",
    "]\n",
    "\n",
    "\n",
    "for i in range(n): # for each row \n",
    "    for j in range(n): # for each column \n",
    "        if mask[i][j] == 1: # starred zero --> assigned\n",
    "            assignment.append((i,j)) # add the tuple\n",
    "            break # move on to the next row \n",
    "\n",
    "print(\"Optimal assignment (worker->task):\")\n",
    "for worker, task in assignment: \n",
    "    print(f\"Worker: {worker} -> Task: {task}\")"
   ]
  },
  {
   "cell_type": "markdown",
   "id": "247949ff",
   "metadata": {},
   "source": [
    "Now we can compute the total cost of the assignment by summing the selected entries from the **original cost matrix** (not the reduced one): "
   ]
  },
  {
   "cell_type": "code",
   "execution_count": 16,
   "id": "59735e8d",
   "metadata": {},
   "outputs": [
    {
     "name": "stdout",
     "output_type": "stream",
     "text": [
      "Total cost of assignment: 5\n"
     ]
    }
   ],
   "source": [
    "total_cost = sum(C[i,j] for i,j in assignment)\n",
    "print(f\"Total cost of assignment: {total_cost}\")"
   ]
  }
 ],
 "metadata": {
  "kernelspec": {
   "display_name": "Python 3",
   "language": "python",
   "name": "python3"
  },
  "language_info": {
   "codemirror_mode": {
    "name": "ipython",
    "version": 3
   },
   "file_extension": ".py",
   "mimetype": "text/x-python",
   "name": "python",
   "nbconvert_exporter": "python",
   "pygments_lexer": "ipython3",
   "version": "3.13.0"
  }
 },
 "nbformat": 4,
 "nbformat_minor": 5
}
